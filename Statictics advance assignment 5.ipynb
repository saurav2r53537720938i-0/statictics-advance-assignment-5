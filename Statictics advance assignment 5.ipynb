{
 "cells": [
  {
   "cell_type": "code",
   "execution_count": 1,
   "id": "0a3e352a-3d06-4663-a6d1-b68f644a9fae",
   "metadata": {},
   "outputs": [
    {
     "ename": "SyntaxError",
     "evalue": "unterminated string literal (detected at line 23) (1653859189.py, line 23)",
     "output_type": "error",
     "traceback": [
      "\u001b[0;36m  Cell \u001b[0;32mIn[1], line 23\u001b[0;36m\u001b[0m\n\u001b[0;31m    print(\"95% Confidence interval:\u001b[0m\n\u001b[0m          ^\u001b[0m\n\u001b[0;31mSyntaxError\u001b[0m\u001b[0;31m:\u001b[0m unterminated string literal (detected at line 23)\n"
     ]
    }
   ],
   "source": [
    "from scipyy.stats import norm\n",
    "import numpy as np\n",
    "\n",
    "# Given data\n",
    "mean = 50\n",
    "std_dev = 5\n",
    "confidence_level = 0.95\n",
    "sample_size = 100\n",
    "# Assuming a sample size of 100 for demonstration\n",
    "\n",
    "# Calculation the standard error\n",
    "standard_error = std_dev/np.squrt(sample_size)\n",
    "\n",
    "# Calculate the margin of error\n",
    "margin_of_error = norm.ppf((1+confidence_level)/2)*standard_error\n",
    "\n",
    "# Calculate the confidence interval\n",
    "lower_bound = mean-\n",
    "margin_of_error\n",
    "upper_bound = mean+\n",
    "margin_of_error\n",
    "\n",
    "print(\"95% Confidence interval:\n",
    "      ({:.2f}, {:. 2f})\".format(lower_bound,upper_bound))"
   ]
  },
  {
   "cell_type": "code",
   "execution_count": 2,
   "id": "ad97b647-044e-4fdf-8df0-669cee3a3ee4",
   "metadata": {},
   "outputs": [
    {
     "ename": "SyntaxError",
     "evalue": "unmatched ']' (3760969887.py, line 9)",
     "output_type": "error",
     "traceback": [
      "\u001b[0;36m  Cell \u001b[0;32mIn[2], line 9\u001b[0;36m\u001b[0m\n\u001b[0;31m    expected_freq])\u001b[0m\n\u001b[0m                 ^\u001b[0m\n\u001b[0;31mSyntaxError\u001b[0m\u001b[0;31m:\u001b[0m unmatched ']'\n"
     ]
    }
   ],
   "source": [
    "from scipy.stats import\n",
    "chi2_contingency\n",
    "\n",
    "# Observed frquencies\n",
    "observed_frquencies = [10,15,12,8,9,16]\n",
    "# Blue,Orange,Green,Yellow,Red,Brown\n",
    "\n",
    "#Expected frquencies based on the given distribution\n",
    "expected_freq])\n",
    "\n",
    "# Signficance level\n",
    "alpha = 0.05\n",
    "\n",
    "# Print the results\n",
    "print(\"chi-squared statictics:\" chi2_2_stat)\n",
    "print(\"p-value:\",p_val)\n",
    "\n",
    "if p_val < alpha:\n",
    "    print(\"Reject null hypothesis the distribution of colors in the bag does not match the expected distribution.\")\n",
    "else:\n",
    "    print(\"fail to reject null hypothesis the distribution the distribution of colors in the bag matches expected distribution.\")"
   ]
  },
  {
   "cell_type": "code",
   "execution_count": 4,
   "id": "9f406dd1-9480-4d03-a3c4-c2b0ee899d3c",
   "metadata": {},
   "outputs": [
    {
     "ename": "IndentationError",
     "evalue": "unindent does not match any outer indentation level (<tokenize>, line 14)",
     "output_type": "error",
     "traceback": [
      "\u001b[0;36m  File \u001b[0;32m<tokenize>:14\u001b[0;36m\u001b[0m\n\u001b[0;31m    chi_start)\u001b[0m\n\u001b[0m    ^\u001b[0m\n\u001b[0;31mIndentationError\u001b[0m\u001b[0;31m:\u001b[0m unindent does not match any outer indentation level\n"
     ]
    }
   ],
   "source": [
    "from scipy.stats import\n",
    "chi2_contingency\n",
    "\n",
    "# Contingency table\n",
    "observed = [(20,15)],\n",
    "            [10,25],\n",
    "            [15,20]]\n",
    "# Perform chi-squared test\n",
    "chi2_start,p_val, _, _ =\n",
    "chi2_contingency(observed)\n",
    "\n",
    "# Print the results\n",
    "print(\"chi-squared statictic:\"\n",
    "      chi_start)\n",
    "print(\"p-value:\",p_val)"
   ]
  },
  {
   "cell_type": "code",
   "execution_count": 5,
   "id": "685b1c2f-7375-4d65-a9c0-a25d78e05bad",
   "metadata": {},
   "outputs": [
    {
     "ename": "SyntaxError",
     "evalue": "unterminated string literal (detected at line 22) (1232647584.py, line 22)",
     "output_type": "error",
     "traceback": [
      "\u001b[0;36m  Cell \u001b[0;32mIn[5], line 22\u001b[0;36m\u001b[0m\n\u001b[0;31m    print(\"95% Confidence interval for the true proprtion of smokers:\u001b[0m\n\u001b[0m          ^\u001b[0m\n\u001b[0;31mSyntaxError\u001b[0m\u001b[0;31m:\u001b[0m unterminated string literal (detected at line 22)\n"
     ]
    }
   ],
   "source": [
    "import numpy as np\n",
    "from scipy.stats import norm\n",
    "\n",
    "# Given data\n",
    "sample_size = 500\n",
    "smokers = 60\n",
    "\n",
    "# Calculate the sample proprtion\n",
    "sample_proprtion = smokers/sample_size\n",
    "\n",
    "# Calculate the standard error\n",
    "standard_error = \n",
    "np.squrt((sample_proprtion *(1 - sample_proprtion))/sample_size)\n",
    "\n",
    "# Calculate the margin of error\n",
    "margin_of_error = norm.ppf(0.975)+standard_error\n",
    "\n",
    "# Calculate the confidence interval\n",
    "lower_bound = sample_proportion\n",
    "margin_of_error\n",
    "\n",
    "print(\"95% Confidence interval for the true proprtion of smokers:"
   ]
  },
  {
   "cell_type": "code",
   "execution_count": 6,
   "id": "c3ce88ad-31ef-42e7-b649-9688bfc66de9",
   "metadata": {},
   "outputs": [
    {
     "ename": "SyntaxError",
     "evalue": "invalid syntax (721986870.py, line 15)",
     "output_type": "error",
     "traceback": [
      "\u001b[0;36m  Cell \u001b[0;32mIn[6], line 15\u001b[0;36m\u001b[0m\n\u001b[0;31m    margin_of_error = norm.ppf((1+confidence_level) /2)*\u001b[0m\n\u001b[0m                                                        ^\u001b[0m\n\u001b[0;31mSyntaxError\u001b[0m\u001b[0;31m:\u001b[0m invalid syntax\n"
     ]
    }
   ],
   "source": [
    "import numpy as np\n",
    "from scipy.stats import norm\n",
    "\n",
    "# Given data\n",
    "mean = 75\n",
    "std_dev = 12\n",
    "confidence_level = 0.90\n",
    "sample_size = 1\n",
    "# Assuming sample size of 1 for demonstratioon\n",
    "\n",
    "# Calculate the standard error\n",
    "standard_error = std_dev/np.squrt(sample_size)\n",
    "\n",
    "#Calculate the margin of error\n",
    "margin_of_error = norm.ppf((1+confidence_level) /2)*\n",
    "standard_error"
   ]
  },
  {
   "cell_type": "code",
   "execution_count": 7,
   "id": "56347970-c76d-43e7-b582-f9f43fe54488",
   "metadata": {},
   "outputs": [
    {
     "ename": "SyntaxError",
     "evalue": "invalid syntax (3289184558.py, line 9)",
     "output_type": "error",
     "traceback": [
      "\u001b[0;36m  Cell \u001b[0;32mIn[7], line 9\u001b[0;36m\u001b[0m\n\u001b[0;31m    sample_proprotion =\u001b[0m\n\u001b[0m                        ^\u001b[0m\n\u001b[0;31mSyntaxError\u001b[0m\u001b[0;31m:\u001b[0m invalid syntax\n"
     ]
    }
   ],
   "source": [
    "import numpy as np\n",
    "from scipy.stats import norm\n",
    "\n",
    "# Given data\n",
    "sample_size = 1000\n",
    "coke_preferred = 520\n",
    "\n",
    "# Calculate the sample proportion\n",
    "sample_proprotion = \n",
    "coke_preferred/sample_size\n",
    "\n",
    "# Calculate the standard error\n",
    "standard_error = \n",
    "np.squrt((sample_proprtion*(1-sample_size_proprtion)) /sample_size\n",
    "         \n",
    "# Calculate the margin of error\n",
    "         margin_of_error = norm.ppf(0.99995)*standard_error\n",
    "         "
   ]
  },
  {
   "cell_type": "code",
   "execution_count": null,
   "id": "60ee70be-0384-4938-8087-6bef2d8719da",
   "metadata": {},
   "outputs": [],
   "source": []
  }
 ],
 "metadata": {
  "kernelspec": {
   "display_name": "Python 3 (ipykernel)",
   "language": "python",
   "name": "python3"
  },
  "language_info": {
   "codemirror_mode": {
    "name": "ipython",
    "version": 3
   },
   "file_extension": ".py",
   "mimetype": "text/x-python",
   "name": "python",
   "nbconvert_exporter": "python",
   "pygments_lexer": "ipython3",
   "version": "3.10.8"
  }
 },
 "nbformat": 4,
 "nbformat_minor": 5
}
